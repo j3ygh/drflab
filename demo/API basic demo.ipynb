{
 "cells": [
  {
   "cell_type": "code",
   "execution_count": 1,
   "metadata": {},
   "outputs": [],
   "source": [
    "# import\n",
    "import requests\n",
    "import json"
   ]
  },
  {
   "cell_type": "code",
   "execution_count": 2,
   "metadata": {},
   "outputs": [],
   "source": [
    "# Person"
   ]
  },
  {
   "cell_type": "code",
   "execution_count": 11,
   "metadata": {},
   "outputs": [
    {
     "name": "stdout",
     "output_type": "stream",
     "text": [
      "[{\"id\":3,\"uuid\":\"ea101266\",\"name\":\"Marco Li\",\"phone_number\":\"\",\"remark\":\"\"},{\"id\":4,\"uuid\":\"5bd87401\",\"name\":\"Allen Yang\",\"phone_number\":\"\",\"remark\":\"\"}]\n"
     ]
    }
   ],
   "source": [
    "# 1\n",
    "# request-get\n",
    "url = 'http://127.0.0.1:8000/api/person/'\n",
    "response = requests.get(url)\n",
    "print(response.text)"
   ]
  },
  {
   "cell_type": "code",
   "execution_count": 9,
   "metadata": {},
   "outputs": [
    {
     "name": "stdout",
     "output_type": "stream",
     "text": [
      "{\"id\":4,\"uuid\":\"5bd87401\",\"name\":\"Allen Yang\",\"phone_number\":\"\",\"remark\":\"\"}\n"
     ]
    }
   ],
   "source": [
    "# 2\n",
    "# request-post\n",
    "url = 'http://127.0.0.1:8000/api/person/'\n",
    "data = '{\"name\": \"Allen Yang\"}'\n",
    "response = requests.post(url, data, headers={'content-type': 'application/json'})\n",
    "print(response.text)"
   ]
  },
  {
   "cell_type": "code",
   "execution_count": 6,
   "metadata": {},
   "outputs": [
    {
     "name": "stdout",
     "output_type": "stream",
     "text": [
      "{\"detail\":\"Not found.\"}\n"
     ]
    }
   ],
   "source": [
    "# 3\n",
    "# request-put\n",
    "url = 'http://127.0.0.1:8000/api/person/1/'\n",
    "data = '{\"name\": \"Allen Yang\", \"phone_number\": \"02-2657-6688#768\"}'\n",
    "response = requests.put(url, data, headers={'content-type': 'application/json'})\n",
    "print(response.text)"
   ]
  },
  {
   "cell_type": "code",
   "execution_count": 8,
   "metadata": {},
   "outputs": [
    {
     "name": "stdout",
     "output_type": "stream",
     "text": [
      "\n"
     ]
    }
   ],
   "source": [
    "# 4\n",
    "# request-delete\n",
    "url = 'http://127.0.0.1:8000/api/person/2/'\n",
    "response = requests.delete(url)\n",
    "print(response.text)"
   ]
  },
  {
   "cell_type": "code",
   "execution_count": 7,
   "metadata": {},
   "outputs": [],
   "source": [
    "# Device"
   ]
  },
  {
   "cell_type": "code",
   "execution_count": 8,
   "metadata": {},
   "outputs": [
    {
     "name": "stdout",
     "output_type": "stream",
     "text": [
      "[{\"id\":1,\"uuid\":\"c73303b4\",\"name\":\"xen server-1\",\"os\":\"\",\"cpu\":null,\"ram\":null,\"remark\":\"\",\"customer\":null},{\"id\":2,\"uuid\":\"4d79fe08\",\"name\":\"leaf-2\",\"os\":\"\",\"cpu\":null,\"ram\":null,\"remark\":\"\",\"customer\":null},{\"id\":3,\"uuid\":\"aee4f4b0\",\"name\":\"leaf-2\",\"os\":\"\",\"cpu\":null,\"ram\":null,\"remark\":\"\",\"customer\":null},{\"id\":4,\"uuid\":\"2c4e6bca\",\"name\":\"leaf-2\",\"os\":\"\",\"cpu\":null,\"ram\":null,\"remark\":\"\",\"customer\":null},{\"id\":5,\"uuid\":\"12903037\",\"name\":\"Dell R630\",\"os\":\"\",\"cpu\":24,\"ram\":768,\"remark\":\"\",\"customer\":null},{\"id\":6,\"uuid\":\"aa1f8b9a\",\"name\":\"Dell R630\",\"os\":\"\",\"cpu\":24,\"ram\":768,\"remark\":\"\",\"customer\":null},{\"id\":7,\"uuid\":\"0f4ae3ed\",\"name\":\"Dell R630\",\"os\":\"\",\"cpu\":24,\"ram\":768,\"remark\":\"\",\"customer\":null},{\"id\":8,\"uuid\":\"a5c76ec7\",\"name\":\"Dell R630\",\"os\":\"\",\"cpu\":24,\"ram\":768,\"remark\":\"\",\"customer\":null},{\"id\":9,\"uuid\":\"8f2907ce\",\"name\":\"Dell R630\",\"os\":\"\",\"cpu\":24,\"ram\":768,\"remark\":\"\",\"customer\":null},{\"id\":10,\"uuid\":\"3327b84c\",\"name\":\"Jimmy Lin\",\"os\":\"\",\"cpu\":null,\"ram\":null,\"remark\":\"\",\"customer\":null},{\"id\":11,\"uuid\":\"17e36e79\",\"name\":\"xen server-1\",\"os\":\"\",\"cpu\":null,\"ram\":null,\"remark\":\"\",\"customer\":null},{\"id\":12,\"uuid\":\"a0ee39ef\",\"name\":\"xen server-1\",\"os\":\"\",\"cpu\":null,\"ram\":null,\"remark\":\"\",\"customer\":null},{\"id\":13,\"uuid\":\"b502fcc2\",\"name\":\"xen server-1\",\"os\":\"\",\"cpu\":null,\"ram\":null,\"remark\":\"\",\"customer\":null}]\n"
     ]
    }
   ],
   "source": [
    "# 1\n",
    "# request-get\n",
    "url = 'http://127.0.0.1:8000/api/device/'\n",
    "response = requests.get(url)\n",
    "print(response.text)"
   ]
  },
  {
   "cell_type": "code",
   "execution_count": 9,
   "metadata": {},
   "outputs": [
    {
     "name": "stdout",
     "output_type": "stream",
     "text": [
      "{\"customer\":[\"Invalid pk \\\"1\\\" - object does not exist.\"]}\n"
     ]
    }
   ],
   "source": [
    "# 2\n",
    "# request-post\n",
    "url = 'http://127.0.0.1:8000/api/device/'\n",
    "data = '{\"name\": \"xen server-1\", \"customer\": 1}'\n",
    "response = requests.post(url, data, headers={'content-type': 'application/json'})\n",
    "print(response.text)"
   ]
  },
  {
   "cell_type": "code",
   "execution_count": 10,
   "metadata": {},
   "outputs": [
    {
     "name": "stdout",
     "output_type": "stream",
     "text": [
      "{\"id\":1,\"uuid\":\"c73303b4\",\"name\":\"xen server-1\",\"os\":\"\",\"cpu\":null,\"ram\":null,\"remark\":\"\",\"customer\":null}\n"
     ]
    }
   ],
   "source": [
    "# 3\n",
    "# request-put\n",
    "url = 'http://127.0.0.1:8000/api/device/1/'\n",
    "data = '{\"name\": \"xen server-1\", \"phone_number\": \"02-2657-6688#768\"}'\n",
    "response = requests.put(url, data, headers={'content-type': 'application/json'})\n",
    "print(response.text)"
   ]
  },
  {
   "cell_type": "code",
   "execution_count": 11,
   "metadata": {},
   "outputs": [
    {
     "name": "stdout",
     "output_type": "stream",
     "text": [
      "\n"
     ]
    }
   ],
   "source": [
    "# 4\n",
    "# request-delete\n",
    "url = 'http://127.0.0.1:8000/api/device/1/'\n",
    "response = requests.delete(url)\n",
    "print(response.text)"
   ]
  },
  {
   "cell_type": "code",
   "execution_count": null,
   "metadata": {},
   "outputs": [],
   "source": []
  }
 ],
 "metadata": {
  "kernelspec": {
   "display_name": "Python 3",
   "language": "python",
   "name": "python3"
  },
  "language_info": {
   "codemirror_mode": {
    "name": "ipython",
    "version": 3
   },
   "file_extension": ".py",
   "mimetype": "text/x-python",
   "name": "python",
   "nbconvert_exporter": "python",
   "pygments_lexer": "ipython3",
   "version": "3.8.2"
  }
 },
 "nbformat": 4,
 "nbformat_minor": 4
}
