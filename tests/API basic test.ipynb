{
 "cells": [
  {
   "cell_type": "code",
   "execution_count": 1,
   "metadata": {},
   "outputs": [],
   "source": [
    "# import\n",
    "import requests\n",
    "import json"
   ]
  },
  {
   "cell_type": "code",
   "execution_count": 2,
   "metadata": {},
   "outputs": [
    {
     "name": "stdout",
     "output_type": "stream",
     "text": [
      "[]\n"
     ]
    }
   ],
   "source": [
    "# request - get\n",
    "url = 'http://127.0.0.1:8000/api/device/'\n",
    "response = requests.get(url)\n",
    "print(response.text)"
   ]
  },
  {
   "cell_type": "code",
   "execution_count": 5,
   "metadata": {},
   "outputs": [],
   "source": [
    "# request - post\n",
    "url = 'http://127.0.0.1:8000/api/device/'\n",
    "data = '{\"name\": \"leaf-2\"}'"
   ]
  },
  {
   "cell_type": "code",
   "execution_count": 6,
   "metadata": {},
   "outputs": [
    {
     "name": "stdout",
     "output_type": "stream",
     "text": [
      "{\"url\":\"http://127.0.0.1:8000/api/device/2/\",\"id\":2,\"code\":\"5ab6d9c1\",\"name\":\"leaf-2\",\"power_state\":\"\",\"os\":\"\",\"cpu\":null,\"ram\":null,\"registration_time\":null,\"expiration_time\":null,\"vmware_tool_state\":\"\",\"remark\":\"\",\"parent\":null,\"customer\":null}\n"
     ]
    }
   ],
   "source": [
    "response = requests.post(\n",
    "    url,\n",
    "    data=data,\n",
    "    headers={'content-type': 'application/json'}\n",
    ")\n",
    "print(response.text)"
   ]
  },
  {
   "cell_type": "code",
   "execution_count": null,
   "metadata": {},
   "outputs": [],
   "source": []
  }
 ],
 "metadata": {
  "kernelspec": {
   "display_name": "Python 3",
   "language": "python",
   "name": "python3"
  },
  "language_info": {
   "codemirror_mode": {
    "name": "ipython",
    "version": 3
   },
   "file_extension": ".py",
   "mimetype": "text/x-python",
   "name": "python",
   "nbconvert_exporter": "python",
   "pygments_lexer": "ipython3",
   "version": "3.8.2"
  }
 },
 "nbformat": 4,
 "nbformat_minor": 4
}
