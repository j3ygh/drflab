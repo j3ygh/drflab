{
 "cells": [
  {
   "cell_type": "code",
   "execution_count": 1,
   "metadata": {},
   "outputs": [],
   "source": [
    "# import\n",
    "import requests\n",
    "import json"
   ]
  },
  {
   "cell_type": "code",
   "execution_count": null,
   "metadata": {},
   "outputs": [],
   "source": [
    "# Person"
   ]
  },
  {
   "cell_type": "code",
   "execution_count": 2,
   "metadata": {},
   "outputs": [
    {
     "name": "stdout",
     "output_type": "stream",
     "text": [
      "[{\"id\":7,\"uuid\":\"1fa7b739\",\"name\":\"Jimmy Lin\",\"phone_number\":\"\",\"remark\":\"\"}]\n"
     ]
    }
   ],
   "source": [
    "# 1\n",
    "# request-get\n",
    "url = 'http://127.0.0.1:8000/api/person/'\n",
    "response = requests.get(url)\n",
    "print(response.text)"
   ]
  },
  {
   "cell_type": "code",
   "execution_count": 3,
   "metadata": {},
   "outputs": [
    {
     "name": "stdout",
     "output_type": "stream",
     "text": [
      "{\"id\":8,\"uuid\":\"6d754733\",\"name\":\"Jimmy Lin\",\"phone_number\":\"\",\"remark\":\"\"}\n"
     ]
    }
   ],
   "source": [
    "# 2\n",
    "# request-post\n",
    "url = 'http://127.0.0.1:8000/api/person/'\n",
    "data = '{\"name\": \"Jimmy Lin\"}'\n",
    "response = requests.post(url, data, headers={'content-type': 'application/json'})\n",
    "print(response.text)"
   ]
  },
  {
   "cell_type": "code",
   "execution_count": 4,
   "metadata": {},
   "outputs": [
    {
     "name": "stdout",
     "output_type": "stream",
     "text": [
      "{\"detail\":\"Not found.\"}\n"
     ]
    }
   ],
   "source": [
    "# 3\n",
    "# request-put\n",
    "url = 'http://127.0.0.1:8000/api/person/1/'\n",
    "data = '{\"name\": \"Jimmy Lin\", \"phone_number\": \"02-2657-6688#768\"}'\n",
    "response = requests.put(url, data, headers={'content-type': 'application/json'})\n",
    "print(response.text)"
   ]
  },
  {
   "cell_type": "code",
   "execution_count": 5,
   "metadata": {},
   "outputs": [
    {
     "name": "stdout",
     "output_type": "stream",
     "text": [
      "{\"detail\":\"Not found.\"}\n"
     ]
    }
   ],
   "source": [
    "# 4\n",
    "# request-delete\n",
    "url = 'http://127.0.0.1:8000/api/person/1/'\n",
    "response = requests.delete(url)\n",
    "print(response.text)"
   ]
  },
  {
   "cell_type": "code",
   "execution_count": null,
   "metadata": {},
   "outputs": [],
   "source": [
    "# Device"
   ]
  },
  {
   "cell_type": "code",
   "execution_count": 6,
   "metadata": {},
   "outputs": [
    {
     "name": "stdout",
     "output_type": "stream",
     "text": [
      "[{\"id\":7,\"uuid\":\"1fa7b739\",\"name\":\"Jimmy Lin\",\"phone_number\":\"\",\"remark\":\"\"},{\"id\":8,\"uuid\":\"6d754733\",\"name\":\"Jimmy Lin\",\"phone_number\":\"\",\"remark\":\"\"}]\n"
     ]
    }
   ],
   "source": [
    "# 1\n",
    "# request-get\n",
    "url = 'http://127.0.0.1:8000/api/device/'\n",
    "response = requests.get(url)\n",
    "print(response.text)"
   ]
  },
  {
   "cell_type": "code",
   "execution_count": 17,
   "metadata": {},
   "outputs": [
    {
     "name": "stdout",
     "output_type": "stream",
     "text": [
      "{\"customer\":[\"Invalid pk \\\"1\\\" - object does not exist.\"]}\n"
     ]
    }
   ],
   "source": [
    "# 2\n",
    "# request-post\n",
    "url = 'http://127.0.0.1:8000/api/device/'\n",
    "data = '{\"name\": \"xen server-1\", \"customer\": 1}'\n",
    "response = requests.post(url, data, headers={'content-type': 'application/json'})\n",
    "print(response.text)"
   ]
  },
  {
   "cell_type": "code",
   "execution_count": 14,
   "metadata": {},
   "outputs": [
    {
     "name": "stdout",
     "output_type": "stream",
     "text": [
      "{\"id\":1,\"uuid\":\"c73303b4\",\"name\":\"xen server-1\",\"os\":\"\",\"cpu\":null,\"ram\":null,\"remark\":\"\",\"customer\":null}\n"
     ]
    }
   ],
   "source": [
    "# 3\n",
    "# request-put\n",
    "url = 'http://127.0.0.1:8000/api/device/1/'\n",
    "data = '{\"name\": \"xen server-1\", \"phone_number\": \"02-2657-6688#768\"}'\n",
    "response = requests.put(url, data, headers={'content-type': 'application/json'})\n",
    "print(response.text)"
   ]
  },
  {
   "cell_type": "code",
   "execution_count": 9,
   "metadata": {},
   "outputs": [
    {
     "name": "stdout",
     "output_type": "stream",
     "text": [
      "{\"detail\":\"Not found.\"}\n"
     ]
    }
   ],
   "source": [
    "# 4\n",
    "# request-delete\n",
    "url = 'http://127.0.0.1:8000/api/device/1/'\n",
    "response = requests.delete(url)\n",
    "print(response.text)"
   ]
  },
  {
   "cell_type": "code",
   "execution_count": null,
   "metadata": {},
   "outputs": [],
   "source": []
  }
 ],
 "metadata": {
  "kernelspec": {
   "display_name": "Python 3",
   "language": "python",
   "name": "python3"
  },
  "language_info": {
   "codemirror_mode": {
    "name": "ipython",
    "version": 3
   },
   "file_extension": ".py",
   "mimetype": "text/x-python",
   "name": "python",
   "nbconvert_exporter": "python",
   "pygments_lexer": "ipython3",
   "version": "3.8.2"
  }
 },
 "nbformat": 4,
 "nbformat_minor": 4
}
