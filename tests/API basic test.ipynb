{
 "cells": [
  {
   "cell_type": "code",
   "execution_count": 45,
   "metadata": {},
   "outputs": [],
   "source": [
    "import requests\n",
    "import json"
   ]
  },
  {
   "cell_type": "code",
   "execution_count": 59,
   "metadata": {},
   "outputs": [
    {
     "name": "stdout",
     "output_type": "stream",
     "text": [
      "[{\"url\":\"http://127.0.0.1:8000/api/device/2/\",\"id\":2,\"code\":\"1eaceb2d\",\"name\":\"\",\"power_state\":\"\",\"os\":\"\",\"cpu\":null,\"ram\":null,\"registration_time\":null,\"expiration_time\":null,\"vmware_tool_state\":\"\",\"remark\":\"\",\"parent\":null,\"customer\":null},{\"url\":\"http://127.0.0.1:8000/api/device/3/\",\"id\":3,\"code\":\"80560a9a\",\"name\":\"\",\"power_state\":\"\",\"os\":\"\",\"cpu\":null,\"ram\":null,\"registration_time\":null,\"expiration_time\":null,\"vmware_tool_state\":\"\",\"remark\":\"\",\"parent\":null,\"customer\":null},{\"url\":\"http://127.0.0.1:8000/api/device/1/\",\"id\":1,\"code\":\"f324dd79\",\"name\":\"\",\"power_state\":\"\",\"os\":\"\",\"cpu\":null,\"ram\":null,\"registration_time\":null,\"expiration_time\":null,\"vmware_tool_state\":\"\",\"remark\":\"\",\"parent\":null,\"customer\":null},{\"url\":\"http://127.0.0.1:8000/api/device/4/\",\"id\":4,\"code\":\"5178e10f\",\"name\":\"leaf-1\",\"power_state\":\"\",\"os\":\"\",\"cpu\":null,\"ram\":null,\"registration_time\":null,\"expiration_time\":null,\"vmware_tool_state\":\"\",\"remark\":\"\",\"parent\":null,\"customer\":null},{\"url\":\"http://127.0.0.1:8000/api/device/5/\",\"id\":5,\"code\":\"b0758063\",\"name\":\"leaf-1\",\"power_state\":\"\",\"os\":\"\",\"cpu\":null,\"ram\":null,\"registration_time\":null,\"expiration_time\":null,\"vmware_tool_state\":\"\",\"remark\":\"\",\"parent\":null,\"customer\":null}]\n"
     ]
    }
   ],
   "source": [
    "url = 'http://127.0.0.1:8000/api/device/'\n",
    "response = requests.get(url)\n",
    "print(response.text)"
   ]
  },
  {
   "cell_type": "code",
   "execution_count": 57,
   "metadata": {},
   "outputs": [
    {
     "name": "stdout",
     "output_type": "stream",
     "text": [
      "{\"name\": \"leaf-1\"}\n"
     ]
    }
   ],
   "source": [
    "url = 'http://127.0.0.1:8000/api/device/'\n",
    "headers = {'content-type': 'application/json'}\n",
    "data = {'name': 'leaf-1'}\n",
    "jdata = json.dumps(data)\n",
    "print(jdata)"
   ]
  },
  {
   "cell_type": "code",
   "execution_count": 58,
   "metadata": {},
   "outputs": [
    {
     "name": "stdout",
     "output_type": "stream",
     "text": [
      "{\"url\":\"http://127.0.0.1:8000/api/device/5/\",\"id\":5,\"code\":\"b0758063\",\"name\":\"leaf-1\",\"power_state\":\"\",\"os\":\"\",\"cpu\":null,\"ram\":null,\"registration_time\":null,\"expiration_time\":null,\"vmware_tool_state\":\"\",\"remark\":\"\",\"parent\":null,\"customer\":null}\n"
     ]
    }
   ],
   "source": [
    "response = requests.post(url, data=jdata, headers=headers)\n",
    "print(response.text)"
   ]
  },
  {
   "cell_type": "code",
   "execution_count": null,
   "metadata": {},
   "outputs": [],
   "source": []
  }
 ],
 "metadata": {
  "kernelspec": {
   "display_name": "Python 3",
   "language": "python",
   "name": "python3"
  },
  "language_info": {
   "codemirror_mode": {
    "name": "ipython",
    "version": 3
   },
   "file_extension": ".py",
   "mimetype": "text/x-python",
   "name": "python",
   "nbconvert_exporter": "python",
   "pygments_lexer": "ipython3",
   "version": "3.8.3"
  }
 },
 "nbformat": 4,
 "nbformat_minor": 4
}
